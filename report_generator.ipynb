{
 "cells": [
  {
   "cell_type": "code",
   "execution_count": 1,
   "metadata": {
    "collapsed": false
   },
   "outputs": [],
   "source": [
    "import pandas as pd\n",
    "import numpy as np\n",
    "import scipy.stats as statspy\n",
    "\n",
    "import plotly.plotly as ply\n",
    "import plotly.tools as ply_t\n",
    "import plotly.graph_objs as go\n",
    "import fantasy as f\n",
    "import seaborn as sns\n",
    "\n",
    "from jsonDB import *\n",
    "\n",
    "jql = jsonDB('fantasy.db')\n",
    "\n",
    "league = 'Baseball_17'\n",
    "team = \"You're a Gyrok\"\n",
    "stats = jql.select('game type',jql.select('league',league,'schema'),0,'values','values',1,'values','values',where=('name','\"*\"','name'))\n",
    "weeks = list(range(1,len(jql.select('league',league,'teams',0,'Season'))+1))\n",
    "scored = jql.select('game type',jql.select('league',league,'schema'),0,'values','values',1,'values','values',where=('name','\"*\"','scored'))"
   ]
  },
  {
   "cell_type": "code",
   "execution_count": 2,
   "metadata": {
    "collapsed": false
   },
   "outputs": [
    {
     "name": "stdout",
     "output_type": "stream",
     "text": [
      "This is the format of your plot grid:\n",
      "[ (1,1) x1,y1 ]   [ (1,2) x2,y2 ] \n",
      "[ (2,1) x1,y3 ]   [ (2,2) x2,y4 ] \n",
      "[ (3,1) x1,y5 ]   [ (3,2) x2,y6 ] \n",
      "[ (4,1) x1,y7 ]   [ (4,2) x2,y8 ] \n",
      "[ (5,1) x1,y9 ]   [ (5,2) x2,y10 ]\n",
      "\n"
     ]
    }
   ],
   "source": [
    "data = []\n",
    "loc = [(1,1),(1,2),(1,3),(1,4),(1,5),(2,1),(2,2),(2,3),(2,4),(2,5)]\n",
    "fig = []\n",
    "fig = ply_t.make_subplots(rows=5,cols=2,shared_xaxes=True)\n",
    "\n",
    "for ndx,stat in enumerate(stats):\n",
    "\n",
    "    scores = scored[ndx]*np.array([jql.select('league',league,'teams',where=('Name','\"*\"==\"{}\"'.format(name),stat)) for name in jql.select('league',league,'teams',where=('Name','\"*\"','Name'))])\n",
    "    \n",
    "    fig.append_trace(   go.Scatter( x=weeks + weeks[::-1],\n",
    "                        y=[min([scr[ndxp-1] for scr in scores]) for ndxp in weeks]+[max([scr[ndxp-1] for scr in scores]) for ndxp in weeks][::-1],\n",
    "                        name='League Range',\n",
    "                        fill='tozerox',\n",
    "                        fillcolor='rgba(0,50,255,0.25)',\n",
    "                        line=go.Line(color='transparent'),\n",
    "                        showlegend=(loc[ndx]==(1,1))),\n",
    "                        loc[ndx][1],loc[ndx][0])\n",
    "    \n",
    "    fig.append_trace(   go.Scatter( x=weeks + weeks[::-1],\n",
    "                        y=[np.percentile([scr[ndxp-1] for scr in scores],25) for ndxp in weeks]+[np.percentile([scr[ndxp-1] for scr in scores],75) for ndxp in weeks][::-1],\n",
    "                        name='League IQR',\n",
    "                        fill='tozerox',\n",
    "                        fillcolor='rgba(0,50,255,0.50)',\n",
    "                        line=go.Line(color='transparent'),\n",
    "                        showlegend=(loc[ndx]==(1,1))),\n",
    "                        loc[ndx][1],loc[ndx][0])\n",
    "    \n",
    "    fig.append_trace(   go.Scatter( x=weeks,\n",
    "                        y=[np.median([scr[ndxp-1] for scr in scores]) for ndxp in weeks],\n",
    "                        name='League Median',\n",
    "                        line=go.Line(color='rgb(0,0,0)'),\n",
    "                        mode='lines',\n",
    "                        showlegend=(loc[ndx]==(1,1))),\n",
    "                        loc[ndx][1],loc[ndx][0])\n",
    "    \n",
    "    fig.append_trace(   go.Scatter( x=weeks,\n",
    "                        y=scored[ndx]*np.array(jql.select('league',league,'teams',where=('Name','\"*\"==\"{}\"'.format(team),stat))),\n",
    "                        name=team,\n",
    "                        line=go.Line(color='rgb(255,165,0)'),\n",
    "                        showlegend=(loc[ndx]==(1,1))),\n",
    "                        loc[ndx][1],loc[ndx][0])\n",
    "\n",
    "fig['layout'].update( title= team + ' Vs Rest of League',\n",
    "                           xaxis={'title': 'Week','anchor':'y9','domain':[0,0.45]},\n",
    "                           xaxis2={'title': 'Week','anchor':'y10'},\n",
    "                           yaxis={'title':'R','anchor':'y1','domain':[0.848,1]},\n",
    "                           yaxis2={'title':'W'},\n",
    "                           yaxis3={'title':'HR'},\n",
    "                           yaxis4={'title':'SV'},\n",
    "                           yaxis5={'title':'RBI'},\n",
    "                           yaxis6={'title':'K'},\n",
    "                           yaxis7={'title':'SB'},\n",
    "                           yaxis8={'title':'ERA'},\n",
    "                           yaxis9={'title':'AVG'},\n",
    "                           yaxis10={'title':'WHIP'})\n",
    "    \n",
    "plot_url1 = ply.plot(fig,auto_open=False,filename='Vs Average')"
   ]
  },
  {
   "cell_type": "code",
   "execution_count": 3,
   "metadata": {
    "collapsed": false,
    "scrolled": true
   },
   "outputs": [],
   "source": [
    "lw = {}\n",
    "ap = {}\n",
    "no = {}\n",
    "\n",
    "next_o = jql.select('league',league,'teams',where=('Name','\"*\"==\"{}\"'.format(team),'Schedule'))[0][weeks[-1]]\n",
    "\n",
    "for ndx,stat in enumerate(stats):\n",
    "    lw_league = [a[-1][stat] for a in jql.select('league',league,'teams',where=('Season','','Season'))]\n",
    "    lw_me = jql.select('league',league,'teams',where=('Name','\"*\"==\"{}\"'.format(team),stat))[-1]\n",
    "    lw[stat] = np.abs((100 if scored[ndx] == -1 else 0)-statspy.percentileofscore(lw_league,lw_me))\n",
    "    ap[stat] = np.mean([np.abs((100 if scored[ndx] == -1 else 0)-statspy.percentileofscore(\n",
    "        [a[week-1][stat] for a in jql.select('league',league,'teams',where=('Season','','Season'))],\n",
    "        jql.select('league',league,'teams',where=('Name','\"*\"==\"{}\"'.format(team),stat))[week-1])) for week in weeks])\n",
    "    no[stat] = np.mean([np.abs((100 if scored[ndx] == -1 else 0)-statspy.percentileofscore(\n",
    "        [a[week-1][stat] for a in jql.select('league',league,'teams',where=('Season','','Season'))],\n",
    "        jql.select('league',league,'teams',where=('Name','\"*\"==\"{}\"'.format(next_o),stat))[week-1])) for week in weeks])\n",
    "    \n",
    "df1 = pd.DataFrame(data={'Average':ap,'Last Week':lw,next_o:no},index=stats)[['Average','Last Week',next_o]]\n",
    "cm = sns.light_palette(\"green\", as_cmap=True)\n",
    "\n",
    "df1 = df1.style.background_gradient(cmap=cm)"
   ]
  },
  {
   "cell_type": "code",
   "execution_count": 4,
   "metadata": {
    "collapsed": false,
    "scrolled": false
   },
   "outputs": [],
   "source": [
    "schedule = f.get_sch(league)"
   ]
  },
  {
   "cell_type": "code",
   "execution_count": 5,
   "metadata": {
    "collapsed": false
   },
   "outputs": [],
   "source": [
    "def plus_minus(val):\n",
    "    color = 'red' if val < -0.005 else 'green' if val > 0.005 else 'black'\n",
    "    return 'color: %s' % color\n",
    "\n",
    "odds_series = [f.get_odds(league,week=week) for week in weeks]\n",
    "\n",
    "delta = (odds_series[-1]-odds_series[-2]).rename(index=str, columns={col: 'delta '+col for col in odds_series[-1].columns.values.tolist()})\n",
    "#.style.background_gradient(cmap=cm)\n",
    "this_week = odds_series[-1]\n",
    "\n",
    "df2 = (pd.concat([this_week,delta],axis=1)*100).style.format(\"{:.2f}%\".format).applymap(plus_minus,subset=['delta ' + col for col in odds_series[-1].columns.values.tolist()]).background_gradient(cmap=cm,subset=[col for col in odds_series[-1].columns.values.tolist()])"
   ]
  },
  {
   "cell_type": "code",
   "execution_count": 6,
   "metadata": {
    "collapsed": false
   },
   "outputs": [],
   "source": [
    "fig = [go.Scatter(x=weeks,\n",
    "            y=[week[col][team] for week in odds_series],\n",
    "            name=col,\n",
    "            mode='lines') for col in list(odds_series[0])]\n",
    "\n",
    "plot_url2 = ply.plot(fig, auto_open=False, filename='New Test')"
   ]
  },
  {
   "cell_type": "code",
   "execution_count": 7,
   "metadata": {
    "collapsed": false
   },
   "outputs": [],
   "source": [
    "hth = f.new_odds(league)\n",
    "\n",
    "Me_vs = dict(hth[team])\n",
    "Me_vs.pop('')\n",
    "Me_vs = {key: Me_vs[key][0] for key in Me_vs}\n",
    "\n",
    "avg={key: 10-val for key,val in f.avg_prob(league).items()}\n",
    "weeks_left = len(jql.select('league',league,'teams',0,'Schedule'))-len(jql.select('league',league,'teams',0,'Season'))\n",
    "est_rec = f.predict_record(schedule,{key: avg for key in avg.keys()},weeks_left)\n",
    "{key: val-weeks_left*10/2 for key,val in est_rec.items()}\n",
    "\n",
    "wins = f.make_w_l(league,False)\n",
    "record = f.predict_record(schedule,hth,len(jql.select('league',league,'teams',0,'Season'))-len(jql.select('league',league,'teams',0,'Schedule')))\n",
    "{team: wins[team]-record[team][0] for team in wins.keys()}\n",
    "\n",
    "df3 = pd.DataFrame(data={team+' Vs': Me_vs,'Strength of Schedule (proj. games)': {key: val-weeks_left*10/2 for key,val in est_rec.items()}, 'Over/Under Achievers (games)': {team: wins[team]-record[team][0] for team in wins.keys()}}).style.format('{:.2f}'.format).applymap(plus_minus, subset=['Strength of Schedule (proj. games)','Over/Under Achievers (games)'])"
   ]
  },
  {
   "cell_type": "code",
   "execution_count": 8,
   "metadata": {
    "collapsed": false
   },
   "outputs": [],
   "source": [
    "with open('report.html','w') as report:\n",
    "    report.write('''<html>\n",
    "    <head>\n",
    "        <link rel=\"stylesheet\" href=\"https://maxcdn.bootstrapcdn.com/bootstrap/3.3.1/css/bootstrap.min.css\">\n",
    "        <style>body{ margin:0 100; background:whitesmoke; }</style>\n",
    "    </head>\n",
    "    <body>\n",
    "        <h1>Fantasy Baseball Report</h1>\n",
    "\n",
    "        <!-- *** Section 1 *** --->\n",
    "        <h3>Percentile Scoring</h3>\n",
    "        ''' + df1.render().replace('<table ','<table class=\"table table-striped\" ') + '''\n",
    "        <h3>Scoring vs Range</h2>\n",
    "        <iframe width=\"750\" height=\"1000\" frameborder=\"0\" seamless=\"seamless\" scrolling=\"no\" \\\n",
    "src=\"''' + plot_url1 + '''.embed?width=750&height=1000\"></iframe>\n",
    "        \n",
    "        <!-- *** Section 2 *** --->\n",
    "        <h3>This Week's Odds</h3>\n",
    "        ''' + df2.render().replace('<table ','<table class=\"table table-striped\" ') + '''\n",
    "        <h3>My Probabilities Over Time</h3>\n",
    "        <iframe width=\"750\" height=\"500\" frameborder=\"0\" seamless=\"seamless\" scrolling=\"no\" \\\n",
    "src=\"''' + plot_url2 + '''.embed?width=750&height=500\"></iframe>\n",
    "        <h3>Regression Watch</h3>\n",
    "        ''' + df3.render().replace('<table ','<table class=\"table table-striped\" ') + '''\n",
    "        \n",
    "    </body>\n",
    "</html>''')"
   ]
  },
  {
   "cell_type": "code",
   "execution_count": 9,
   "metadata": {
    "collapsed": false
   },
   "outputs": [
    {
     "data": {
      "text/plain": [
       "0.36118208838542915"
      ]
     },
     "execution_count": 9,
     "metadata": {},
     "output_type": "execute_result"
    }
   ],
   "source": [
    "home = 'You\\'re a Gyrok'\n",
    "away = 'Josh\\'s Team'\n",
    "stat = 'RBI'\n",
    "ovrd = False\n",
    "\n",
    "means = f.get_mean(league,ovrd)\n",
    "stdevs = f.get_std(league,ovrd)\n",
    "maxes = f.get_max(league,ovrd)\n",
    "\n",
    "f.poisson_odds(means[home][stat],means[away][stat],maxes[home][stat],maxes[away][stat])"
   ]
  },
  {
   "cell_type": "code",
   "execution_count": 10,
   "metadata": {
    "collapsed": false
   },
   "outputs": [
    {
     "data": {
      "text/plain": [
       "0.37635128197594858"
      ]
     },
     "execution_count": 10,
     "metadata": {},
     "output_type": "execute_result"
    }
   ],
   "source": [
    "f.normal_odds(means[home][stat],means[away][stat],stdevs[home][stat],stdevs[away][stat])"
   ]
  },
  {
   "cell_type": "code",
   "execution_count": 68,
   "metadata": {
    "collapsed": false
   },
   "outputs": [
    {
     "data": {
      "image/png": "[encoded data removed]",
      "text/plain": [
       "<matplotlib.figure.Figure at 0x2aa46a405c0>"
      ]
     },
     "metadata": {},
     "output_type": "display_data"
    }
   ],
   "source": [
    "import matplotlib.pyplot as plt\n",
    "from scipy.stats import poisson\n",
    "from scipy.stats import norm\n",
    "from scipy.stats import nbinom\n",
    "\n",
    "stat = 'R'\n",
    "r =100\n",
    "plt.subplot(1,2,1)\n",
    "\n",
    "plt.plot(poisson.pmf(range(max(maxes[home][stat],maxes[away][stat])),means[home][stat]),'k.')\n",
    "plt.plot(nbinom.pmf(range(max(maxes[home][stat],maxes[away][stat])),19.16,0.545),'g.')\n",
    "plt.plot(norm.pdf(range(max(maxes[home][stat],maxes[away][stat])),means[home][stat],stdevs[home][stat]),'r')\n",
    "\n",
    "plt.hist(jql.select('league',league,'teams',where=('Name','\"*\"==\"You\\'re a Gyrok\"',stat)),normed=True,bins=15)\n",
    "\n",
    "plt.subplot(1,2,2)\n",
    "\n",
    "plt.plot(poisson.pmf(range(max(maxes[home][stat],maxes[away][stat])),means[away][stat]),'k.')\n",
    "plt.plot(norm.pdf(range(max(maxes[home][stat],maxes[away][stat])),means[away][stat],stdevs[away][stat]),'k')\n",
    "\n",
    "plt.hist(jql.select('league',league,'teams',where=('Name','\"*\"==\"Josh\\'s Team\"',stat)),normed=True,bins=15)\n",
    "\n",
    "plt.show()"
   ]
  },
  {
   "cell_type": "code",
   "execution_count": 67,
   "metadata": {
    "collapsed": false
   },
   "outputs": [
    {
     "name": "stdout",
     "output_type": "stream",
     "text": [
      "0.545151409406 19.1620720406\n"
     ]
    }
   ],
   "source": [
    "a = jql.select('league',league,'teams',where=('Name','\"*\"==\"You\\'re a Gyrok\"','R'))\n",
    "mu = np.mean(a)\n",
    "var = np.var(a)\n",
    "print(mu/(var+mu),(mu**2)/(var+mu))"
   ]
  },
  {
   "cell_type": "code",
   "execution_count": null,
   "metadata": {
    "collapsed": true
   },
   "outputs": [],
   "source": []
  },
  {
   "cell_type": "code",
   "execution_count": null,
   "metadata": {
    "collapsed": true
   },
   "outputs": [],
   "source": []
  }
 ],
 "metadata": {
  "kernelspec": {
   "display_name": "Python 3",
   "language": "python",
   "name": "python3"
  },
  "language_info": {
   "codemirror_mode": {
    "name": "ipython",
    "version": 3
   },
   "file_extension": ".py",
   "mimetype": "text/x-python",
   "name": "python",
   "nbconvert_exporter": "python",
   "pygments_lexer": "ipython3",
   "version": "3.5.2"
  }
 },
 "nbformat": 4,
 "nbformat_minor": 2
}
